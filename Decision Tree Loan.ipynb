{
 "cells": [
  {
   "cell_type": "code",
   "execution_count": 62,
   "id": "0b1f8f07-0e83-4bd9-82f0-8400d3243a0f",
   "metadata": {},
   "outputs": [],
   "source": [
    "import pandas as pd\n",
    "import numpy as np"
   ]
  },
  {
   "cell_type": "code",
   "execution_count": 63,
   "id": "b2807e47-893c-4bc0-954a-3ee702e95feb",
   "metadata": {},
   "outputs": [],
   "source": [
    "loan_data = pd.read_csv(\"loan_data.csv\")"
   ]
  },
  {
   "cell_type": "code",
   "execution_count": 64,
   "id": "f23ba3b2-f0ee-459f-ac0b-63a11d1b69e1",
   "metadata": {},
   "outputs": [
    {
     "data": {
      "text/html": [
       "<div>\n",
       "<style scoped>\n",
       "    .dataframe tbody tr th:only-of-type {\n",
       "        vertical-align: middle;\n",
       "    }\n",
       "\n",
       "    .dataframe tbody tr th {\n",
       "        vertical-align: top;\n",
       "    }\n",
       "\n",
       "    .dataframe thead th {\n",
       "        text-align: right;\n",
       "    }\n",
       "</style>\n",
       "<table border=\"1\" class=\"dataframe\">\n",
       "  <thead>\n",
       "    <tr style=\"text-align: right;\">\n",
       "      <th></th>\n",
       "      <th>Unnamed: 0</th>\n",
       "      <th>Initial payment</th>\n",
       "      <th>Last payment</th>\n",
       "      <th>Credit Score</th>\n",
       "      <th>House Number</th>\n",
       "      <th>Result</th>\n",
       "    </tr>\n",
       "  </thead>\n",
       "  <tbody>\n",
       "    <tr>\n",
       "      <th>0</th>\n",
       "      <td>0</td>\n",
       "      <td>201</td>\n",
       "      <td>10018</td>\n",
       "      <td>250</td>\n",
       "      <td>3046</td>\n",
       "      <td>yes</td>\n",
       "    </tr>\n",
       "    <tr>\n",
       "      <th>1</th>\n",
       "      <td>1</td>\n",
       "      <td>205</td>\n",
       "      <td>10016</td>\n",
       "      <td>395</td>\n",
       "      <td>3044</td>\n",
       "      <td>yes</td>\n",
       "    </tr>\n",
       "    <tr>\n",
       "      <th>2</th>\n",
       "      <td>2</td>\n",
       "      <td>257</td>\n",
       "      <td>10129</td>\n",
       "      <td>109</td>\n",
       "      <td>3251</td>\n",
       "      <td>yes</td>\n",
       "    </tr>\n",
       "    <tr>\n",
       "      <th>3</th>\n",
       "      <td>3</td>\n",
       "      <td>246</td>\n",
       "      <td>10064</td>\n",
       "      <td>324</td>\n",
       "      <td>3137</td>\n",
       "      <td>yes</td>\n",
       "    </tr>\n",
       "    <tr>\n",
       "      <th>4</th>\n",
       "      <td>4</td>\n",
       "      <td>117</td>\n",
       "      <td>10115</td>\n",
       "      <td>496</td>\n",
       "      <td>3094</td>\n",
       "      <td>yes</td>\n",
       "    </tr>\n",
       "  </tbody>\n",
       "</table>\n",
       "</div>"
      ],
      "text/plain": [
       "   Unnamed: 0  Initial payment  Last payment  Credit Score  House Number  \\\n",
       "0           0              201         10018           250          3046   \n",
       "1           1              205         10016           395          3044   \n",
       "2           2              257         10129           109          3251   \n",
       "3           3              246         10064           324          3137   \n",
       "4           4              117         10115           496          3094   \n",
       "\n",
       "  Result  \n",
       "0    yes  \n",
       "1    yes  \n",
       "2    yes  \n",
       "3    yes  \n",
       "4    yes  "
      ]
     },
     "execution_count": 64,
     "metadata": {},
     "output_type": "execute_result"
    }
   ],
   "source": [
    "loan_data.head()"
   ]
  },
  {
   "cell_type": "code",
   "execution_count": 65,
   "id": "9b6209ac-c0e2-47a3-8522-b1e37ea852f0",
   "metadata": {},
   "outputs": [
    {
     "data": {
      "text/plain": [
       "(1000, 6)"
      ]
     },
     "execution_count": 65,
     "metadata": {},
     "output_type": "execute_result"
    }
   ],
   "source": [
    "loan_data.shape"
   ]
  },
  {
   "cell_type": "markdown",
   "id": "9ded9134-5c26-4704-97a4-e034cfac55c8",
   "metadata": {},
   "source": [
    "# From the loan dataset we are removing the 'Unnamed' and 'House Number' because they we will not considered as feature."
   ]
  },
  {
   "cell_type": "code",
   "execution_count": 66,
   "id": "06bd6b11-bc25-4af8-9e68-ac1c63423692",
   "metadata": {},
   "outputs": [],
   "source": [
    "loan_data.drop(columns=[\"Unnamed: 0\", \"House Number\"], inplace=True)"
   ]
  },
  {
   "cell_type": "code",
   "execution_count": 67,
   "id": "85b91679-97ab-4d87-a300-423ff5797e3f",
   "metadata": {},
   "outputs": [
    {
     "data": {
      "text/html": [
       "<div>\n",
       "<style scoped>\n",
       "    .dataframe tbody tr th:only-of-type {\n",
       "        vertical-align: middle;\n",
       "    }\n",
       "\n",
       "    .dataframe tbody tr th {\n",
       "        vertical-align: top;\n",
       "    }\n",
       "\n",
       "    .dataframe thead th {\n",
       "        text-align: right;\n",
       "    }\n",
       "</style>\n",
       "<table border=\"1\" class=\"dataframe\">\n",
       "  <thead>\n",
       "    <tr style=\"text-align: right;\">\n",
       "      <th></th>\n",
       "      <th>Initial payment</th>\n",
       "      <th>Last payment</th>\n",
       "      <th>Credit Score</th>\n",
       "      <th>Result</th>\n",
       "    </tr>\n",
       "  </thead>\n",
       "  <tbody>\n",
       "    <tr>\n",
       "      <th>0</th>\n",
       "      <td>201</td>\n",
       "      <td>10018</td>\n",
       "      <td>250</td>\n",
       "      <td>yes</td>\n",
       "    </tr>\n",
       "    <tr>\n",
       "      <th>1</th>\n",
       "      <td>205</td>\n",
       "      <td>10016</td>\n",
       "      <td>395</td>\n",
       "      <td>yes</td>\n",
       "    </tr>\n",
       "    <tr>\n",
       "      <th>2</th>\n",
       "      <td>257</td>\n",
       "      <td>10129</td>\n",
       "      <td>109</td>\n",
       "      <td>yes</td>\n",
       "    </tr>\n",
       "    <tr>\n",
       "      <th>3</th>\n",
       "      <td>246</td>\n",
       "      <td>10064</td>\n",
       "      <td>324</td>\n",
       "      <td>yes</td>\n",
       "    </tr>\n",
       "    <tr>\n",
       "      <th>4</th>\n",
       "      <td>117</td>\n",
       "      <td>10115</td>\n",
       "      <td>496</td>\n",
       "      <td>yes</td>\n",
       "    </tr>\n",
       "  </tbody>\n",
       "</table>\n",
       "</div>"
      ],
      "text/plain": [
       "   Initial payment  Last payment  Credit Score Result\n",
       "0              201         10018           250    yes\n",
       "1              205         10016           395    yes\n",
       "2              257         10129           109    yes\n",
       "3              246         10064           324    yes\n",
       "4              117         10115           496    yes"
      ]
     },
     "execution_count": 67,
     "metadata": {},
     "output_type": "execute_result"
    }
   ],
   "source": [
    "loan_data.head()"
   ]
  },
  {
   "cell_type": "code",
   "execution_count": 68,
   "id": "4f4d5f73-7f42-4838-b50f-3216cbc9dc2d",
   "metadata": {},
   "outputs": [
    {
     "data": {
      "text/plain": [
       "No     521\n",
       "yes    479\n",
       "Name: Result, dtype: int64"
      ]
     },
     "execution_count": 68,
     "metadata": {},
     "output_type": "execute_result"
    }
   ],
   "source": [
    "loan_data[\"Result\"].value_counts()"
   ]
  },
  {
   "cell_type": "markdown",
   "id": "5a1bba25-87be-4c39-a68c-78fd0a38ab6d",
   "metadata": {},
   "source": [
    "# We saw that there is high randomness in the dataset. The values of yes and no is nearly same."
   ]
  },
  {
   "cell_type": "code",
   "execution_count": 69,
   "id": "1fa9011d-885c-4bd9-8b45-976fe3806c90",
   "metadata": {},
   "outputs": [
    {
     "data": {
      "text/plain": [
       "Initial payment    0\n",
       "Last payment       0\n",
       "Credit Score       0\n",
       "Result             0\n",
       "dtype: int64"
      ]
     },
     "execution_count": 69,
     "metadata": {},
     "output_type": "execute_result"
    }
   ],
   "source": [
    "# Checking NaN values\n",
    "\n",
    "loan_data.isna().sum()"
   ]
  },
  {
   "cell_type": "code",
   "execution_count": 70,
   "id": "accf019b-8906-47b1-977d-722d7c6a8f89",
   "metadata": {},
   "outputs": [],
   "source": [
    "# Separating features and target \n",
    "\n",
    "X = loan_data[[\"Initial payment\", \"Last payment\", \"Credit Score\"]].values\n",
    "Y = loan_data[[\"Result\"]].values"
   ]
  },
  {
   "cell_type": "code",
   "execution_count": 71,
   "id": "7e58e49d-aa8b-4a49-a186-8f38fe5c8068",
   "metadata": {},
   "outputs": [
    {
     "data": {
      "text/plain": [
       "array([[  201, 10018,   250],\n",
       "       [  205, 10016,   395],\n",
       "       [  257, 10129,   109],\n",
       "       ...,\n",
       "       [  316, 14872,   613],\n",
       "       [  305, 14926,   897],\n",
       "       [  168, 14798,   834]], dtype=int64)"
      ]
     },
     "execution_count": 71,
     "metadata": {},
     "output_type": "execute_result"
    }
   ],
   "source": [
    "X"
   ]
  },
  {
   "cell_type": "code",
   "execution_count": 72,
   "id": "6dd069d1-1981-42bf-afed-2c8d59a0ca1e",
   "metadata": {},
   "outputs": [
    {
     "data": {
      "text/plain": [
       "array([['yes'],\n",
       "       ['yes'],\n",
       "       ['yes'],\n",
       "       ['yes'],\n",
       "       ['yes'],\n",
       "       ['yes'],\n",
       "       ['yes'],\n",
       "       ['yes'],\n",
       "       ['yes'],\n",
       "       ['yes']], dtype=object)"
      ]
     },
     "execution_count": 72,
     "metadata": {},
     "output_type": "execute_result"
    }
   ],
   "source": [
    "Y[:10]"
   ]
  },
  {
   "cell_type": "code",
   "execution_count": 73,
   "id": "9f3584ad-1d95-47b7-a83a-065705bb764a",
   "metadata": {},
   "outputs": [],
   "source": [
    "from sklearn.model_selection import train_test_split"
   ]
  },
  {
   "cell_type": "code",
   "execution_count": 74,
   "id": "4687be33-f4c6-4636-b471-84d7f38fbe1f",
   "metadata": {},
   "outputs": [],
   "source": [
    "# Training and Testing\n",
    "\n",
    "X_train, X_test, Y_train, Y_test = train_test_split(X, Y, test_size=0.3)"
   ]
  },
  {
   "cell_type": "code",
   "execution_count": 75,
   "id": "6de75717-9def-4735-aa93-a0653a28341b",
   "metadata": {},
   "outputs": [],
   "source": [
    "from sklearn.tree import DecisionTreeClassifier"
   ]
  },
  {
   "cell_type": "code",
   "execution_count": 76,
   "id": "0c742a03-4f18-46cc-8c53-601caa38e1d9",
   "metadata": {},
   "outputs": [],
   "source": [
    "model = DecisionTreeClassifier()"
   ]
  },
  {
   "cell_type": "code",
   "execution_count": 77,
   "id": "e024ddd6-e643-43e2-9327-bc170e956584",
   "metadata": {},
   "outputs": [
    {
     "data": {
      "text/html": [
       "<style>#sk-container-id-2 {color: black;background-color: white;}#sk-container-id-2 pre{padding: 0;}#sk-container-id-2 div.sk-toggleable {background-color: white;}#sk-container-id-2 label.sk-toggleable__label {cursor: pointer;display: block;width: 100%;margin-bottom: 0;padding: 0.3em;box-sizing: border-box;text-align: center;}#sk-container-id-2 label.sk-toggleable__label-arrow:before {content: \"▸\";float: left;margin-right: 0.25em;color: #696969;}#sk-container-id-2 label.sk-toggleable__label-arrow:hover:before {color: black;}#sk-container-id-2 div.sk-estimator:hover label.sk-toggleable__label-arrow:before {color: black;}#sk-container-id-2 div.sk-toggleable__content {max-height: 0;max-width: 0;overflow: hidden;text-align: left;background-color: #f0f8ff;}#sk-container-id-2 div.sk-toggleable__content pre {margin: 0.2em;color: black;border-radius: 0.25em;background-color: #f0f8ff;}#sk-container-id-2 input.sk-toggleable__control:checked~div.sk-toggleable__content {max-height: 200px;max-width: 100%;overflow: auto;}#sk-container-id-2 input.sk-toggleable__control:checked~label.sk-toggleable__label-arrow:before {content: \"▾\";}#sk-container-id-2 div.sk-estimator input.sk-toggleable__control:checked~label.sk-toggleable__label {background-color: #d4ebff;}#sk-container-id-2 div.sk-label input.sk-toggleable__control:checked~label.sk-toggleable__label {background-color: #d4ebff;}#sk-container-id-2 input.sk-hidden--visually {border: 0;clip: rect(1px 1px 1px 1px);clip: rect(1px, 1px, 1px, 1px);height: 1px;margin: -1px;overflow: hidden;padding: 0;position: absolute;width: 1px;}#sk-container-id-2 div.sk-estimator {font-family: monospace;background-color: #f0f8ff;border: 1px dotted black;border-radius: 0.25em;box-sizing: border-box;margin-bottom: 0.5em;}#sk-container-id-2 div.sk-estimator:hover {background-color: #d4ebff;}#sk-container-id-2 div.sk-parallel-item::after {content: \"\";width: 100%;border-bottom: 1px solid gray;flex-grow: 1;}#sk-container-id-2 div.sk-label:hover label.sk-toggleable__label {background-color: #d4ebff;}#sk-container-id-2 div.sk-serial::before {content: \"\";position: absolute;border-left: 1px solid gray;box-sizing: border-box;top: 0;bottom: 0;left: 50%;z-index: 0;}#sk-container-id-2 div.sk-serial {display: flex;flex-direction: column;align-items: center;background-color: white;padding-right: 0.2em;padding-left: 0.2em;position: relative;}#sk-container-id-2 div.sk-item {position: relative;z-index: 1;}#sk-container-id-2 div.sk-parallel {display: flex;align-items: stretch;justify-content: center;background-color: white;position: relative;}#sk-container-id-2 div.sk-item::before, #sk-container-id-2 div.sk-parallel-item::before {content: \"\";position: absolute;border-left: 1px solid gray;box-sizing: border-box;top: 0;bottom: 0;left: 50%;z-index: -1;}#sk-container-id-2 div.sk-parallel-item {display: flex;flex-direction: column;z-index: 1;position: relative;background-color: white;}#sk-container-id-2 div.sk-parallel-item:first-child::after {align-self: flex-end;width: 50%;}#sk-container-id-2 div.sk-parallel-item:last-child::after {align-self: flex-start;width: 50%;}#sk-container-id-2 div.sk-parallel-item:only-child::after {width: 0;}#sk-container-id-2 div.sk-dashed-wrapped {border: 1px dashed gray;margin: 0 0.4em 0.5em 0.4em;box-sizing: border-box;padding-bottom: 0.4em;background-color: white;}#sk-container-id-2 div.sk-label label {font-family: monospace;font-weight: bold;display: inline-block;line-height: 1.2em;}#sk-container-id-2 div.sk-label-container {text-align: center;}#sk-container-id-2 div.sk-container {/* jupyter's `normalize.less` sets `[hidden] { display: none; }` but bootstrap.min.css set `[hidden] { display: none !important; }` so we also need the `!important` here to be able to override the default hidden behavior on the sphinx rendered scikit-learn.org. See: https://github.com/scikit-learn/scikit-learn/issues/21755 */display: inline-block !important;position: relative;}#sk-container-id-2 div.sk-text-repr-fallback {display: none;}</style><div id=\"sk-container-id-2\" class=\"sk-top-container\"><div class=\"sk-text-repr-fallback\"><pre>DecisionTreeClassifier()</pre><b>In a Jupyter environment, please rerun this cell to show the HTML representation or trust the notebook. <br />On GitHub, the HTML representation is unable to render, please try loading this page with nbviewer.org.</b></div><div class=\"sk-container\" hidden><div class=\"sk-item\"><div class=\"sk-estimator sk-toggleable\"><input class=\"sk-toggleable__control sk-hidden--visually\" id=\"sk-estimator-id-2\" type=\"checkbox\" checked><label for=\"sk-estimator-id-2\" class=\"sk-toggleable__label sk-toggleable__label-arrow\">DecisionTreeClassifier</label><div class=\"sk-toggleable__content\"><pre>DecisionTreeClassifier()</pre></div></div></div></div></div>"
      ],
      "text/plain": [
       "DecisionTreeClassifier()"
      ]
     },
     "execution_count": 77,
     "metadata": {},
     "output_type": "execute_result"
    }
   ],
   "source": [
    "model.fit(X_train, Y_train)"
   ]
  },
  {
   "cell_type": "code",
   "execution_count": 78,
   "id": "1720a70f-3bd1-42a6-8cd1-43a4098c90ab",
   "metadata": {},
   "outputs": [],
   "source": [
    "# Generate cost complexity pruning path to identify ccp_alphas\n",
    "path = model.cost_complexity_pruning_path(X_train, Y_train)\n",
    "ccp_alphas, impurities = path.ccp_alphas, path.impurities"
   ]
  },
  {
   "cell_type": "code",
   "execution_count": 79,
   "id": "314c5c3c-2049-4fb7-abae-59c1dde6b386",
   "metadata": {},
   "outputs": [],
   "source": [
    "# Train a series of models using different ccp_alpha values\n",
    "models = []\n",
    "for ccp_alpha in ccp_alphas:\n",
    "    pruned_model = DecisionTreeClassifier(random_state=42, ccp_alpha=ccp_alpha)\n",
    "    pruned_model.fit(X_train, Y_train)\n",
    "    models.append(pruned_model)"
   ]
  },
  {
   "cell_type": "code",
   "execution_count": 80,
   "id": "ff880cfa-7143-44f2-bc48-352e72046ff1",
   "metadata": {},
   "outputs": [],
   "source": [
    "# Evaluate all models and select the best one based on test accuracy\n",
    "train_scores = [accuracy_score(Y_train, model.predict(X_train)) for model in models]\n",
    "test_scores = [accuracy_score(Y_test, model.predict(X_test)) for model in models]\n"
   ]
  },
  {
   "cell_type": "code",
   "execution_count": 81,
   "id": "a65ee6f7-0605-4a1a-927b-dd07916e7591",
   "metadata": {},
   "outputs": [],
   "source": [
    "# Identify the best model\n",
    "best_index = test_scores.index(max(test_scores))\n",
    "best_model = models[best_index]"
   ]
  },
  {
   "cell_type": "code",
   "execution_count": 82,
   "id": "240e0991-fb00-4071-a145-9ee6f0e81b48",
   "metadata": {},
   "outputs": [
    {
     "name": "stdout",
     "output_type": "stream",
     "text": [
      "Best ccp_alpha: 0.0034285714285714267\n",
      "Best Test Accuracy: 0.9033333333333333\n"
     ]
    }
   ],
   "source": [
    "# Output the best ccp_alpha and its test accuracy\n",
    "best_ccp_alpha = ccp_alphas[best_index]\n",
    "print(f\"Best ccp_alpha: {best_ccp_alpha}\")\n",
    "print(f\"Best Test Accuracy: {max(test_scores)}\")"
   ]
  },
  {
   "cell_type": "code",
   "execution_count": 83,
   "id": "a7502451-c875-4a15-91bc-e4ad9afb3a18",
   "metadata": {},
   "outputs": [
    {
     "name": "stdout",
     "output_type": "stream",
     "text": [
      "|--- feature_1 <= 12542.50\n",
      "|   |--- feature_1 <= 11898.50\n",
      "|   |   |--- feature_1 <= 11487.00\n",
      "|   |   |   |--- feature_0 <= 471.50\n",
      "|   |   |   |   |--- class: yes\n",
      "|   |   |   |--- feature_0 >  471.50\n",
      "|   |   |   |   |--- feature_0 <= 476.50\n",
      "|   |   |   |   |   |--- feature_2 <= 469.50\n",
      "|   |   |   |   |   |   |--- class: yes\n",
      "|   |   |   |   |   |--- feature_2 >  469.50\n",
      "|   |   |   |   |   |   |--- class: No\n",
      "|   |   |   |   |--- feature_0 >  476.50\n",
      "|   |   |   |   |   |--- class: yes\n",
      "|   |   |--- feature_1 >  11487.00\n",
      "|   |   |   |--- feature_2 <= 587.00\n",
      "|   |   |   |   |--- class: yes\n",
      "|   |   |   |--- feature_2 >  587.00\n",
      "|   |   |   |   |--- feature_2 <= 615.00\n",
      "|   |   |   |   |   |--- class: No\n",
      "|   |   |   |   |--- feature_2 >  615.00\n",
      "|   |   |   |   |   |--- feature_0 <= 416.00\n",
      "|   |   |   |   |   |   |--- feature_1 <= 11493.00\n",
      "|   |   |   |   |   |   |   |--- class: No\n",
      "|   |   |   |   |   |   |--- feature_1 >  11493.00\n",
      "|   |   |   |   |   |   |   |--- feature_0 <= 368.00\n",
      "|   |   |   |   |   |   |   |   |--- class: yes\n",
      "|   |   |   |   |   |   |   |--- feature_0 >  368.00\n",
      "|   |   |   |   |   |   |   |   |--- feature_0 <= 379.50\n",
      "|   |   |   |   |   |   |   |   |   |--- class: No\n",
      "|   |   |   |   |   |   |   |   |--- feature_0 >  379.50\n",
      "|   |   |   |   |   |   |   |   |   |--- class: yes\n",
      "|   |   |   |   |   |--- feature_0 >  416.00\n",
      "|   |   |   |   |   |   |--- feature_0 <= 483.50\n",
      "|   |   |   |   |   |   |   |--- class: No\n",
      "|   |   |   |   |   |   |--- feature_0 >  483.50\n",
      "|   |   |   |   |   |   |   |--- class: yes\n",
      "|   |--- feature_1 >  11898.50\n",
      "|   |   |--- feature_2 <= 630.00\n",
      "|   |   |   |--- feature_0 <= 224.50\n",
      "|   |   |   |   |--- feature_1 <= 12000.00\n",
      "|   |   |   |   |   |--- class: No\n",
      "|   |   |   |   |--- feature_1 >  12000.00\n",
      "|   |   |   |   |   |--- feature_1 <= 12352.50\n",
      "|   |   |   |   |   |   |--- feature_2 <= 184.00\n",
      "|   |   |   |   |   |   |   |--- class: No\n",
      "|   |   |   |   |   |   |--- feature_2 >  184.00\n",
      "|   |   |   |   |   |   |   |--- feature_2 <= 275.50\n",
      "|   |   |   |   |   |   |   |   |--- class: yes\n",
      "|   |   |   |   |   |   |   |--- feature_2 >  275.50\n",
      "|   |   |   |   |   |   |   |   |--- feature_1 <= 12054.00\n",
      "|   |   |   |   |   |   |   |   |   |--- class: yes\n",
      "|   |   |   |   |   |   |   |   |--- feature_1 >  12054.00\n",
      "|   |   |   |   |   |   |   |   |   |--- feature_2 <= 428.00\n",
      "|   |   |   |   |   |   |   |   |   |   |--- feature_2 <= 320.50\n",
      "|   |   |   |   |   |   |   |   |   |   |   |--- class: No\n",
      "|   |   |   |   |   |   |   |   |   |   |--- feature_2 >  320.50\n",
      "|   |   |   |   |   |   |   |   |   |   |   |--- class: yes\n",
      "|   |   |   |   |   |   |   |   |   |--- feature_2 >  428.00\n",
      "|   |   |   |   |   |   |   |   |   |   |--- class: No\n",
      "|   |   |   |   |   |--- feature_1 >  12352.50\n",
      "|   |   |   |   |   |   |--- class: No\n",
      "|   |   |   |--- feature_0 >  224.50\n",
      "|   |   |   |   |--- feature_0 <= 482.00\n",
      "|   |   |   |   |   |--- feature_1 <= 11903.50\n",
      "|   |   |   |   |   |   |--- class: No\n",
      "|   |   |   |   |   |--- feature_1 >  11903.50\n",
      "|   |   |   |   |   |   |--- feature_0 <= 412.00\n",
      "|   |   |   |   |   |   |   |--- feature_1 <= 12148.00\n",
      "|   |   |   |   |   |   |   |   |--- class: yes\n",
      "|   |   |   |   |   |   |   |--- feature_1 >  12148.00\n",
      "|   |   |   |   |   |   |   |   |--- feature_1 <= 12249.50\n",
      "|   |   |   |   |   |   |   |   |   |--- class: No\n",
      "|   |   |   |   |   |   |   |   |--- feature_1 >  12249.50\n",
      "|   |   |   |   |   |   |   |   |   |--- feature_0 <= 305.50\n",
      "|   |   |   |   |   |   |   |   |   |   |--- feature_2 <= 205.00\n",
      "|   |   |   |   |   |   |   |   |   |   |   |--- class: yes\n",
      "|   |   |   |   |   |   |   |   |   |   |--- feature_2 >  205.00\n",
      "|   |   |   |   |   |   |   |   |   |   |   |--- truncated branch of depth 2\n",
      "|   |   |   |   |   |   |   |   |   |--- feature_0 >  305.50\n",
      "|   |   |   |   |   |   |   |   |   |   |--- class: yes\n",
      "|   |   |   |   |   |   |--- feature_0 >  412.00\n",
      "|   |   |   |   |   |   |   |--- class: yes\n",
      "|   |   |   |   |--- feature_0 >  482.00\n",
      "|   |   |   |   |   |--- feature_1 <= 11992.50\n",
      "|   |   |   |   |   |   |--- class: yes\n",
      "|   |   |   |   |   |--- feature_1 >  11992.50\n",
      "|   |   |   |   |   |   |--- feature_2 <= 500.00\n",
      "|   |   |   |   |   |   |   |--- class: No\n",
      "|   |   |   |   |   |   |--- feature_2 >  500.00\n",
      "|   |   |   |   |   |   |   |--- class: yes\n",
      "|   |   |--- feature_2 >  630.00\n",
      "|   |   |   |--- feature_1 <= 12293.50\n",
      "|   |   |   |   |--- feature_2 <= 667.50\n",
      "|   |   |   |   |   |--- class: No\n",
      "|   |   |   |   |--- feature_2 >  667.50\n",
      "|   |   |   |   |   |--- feature_1 <= 12030.00\n",
      "|   |   |   |   |   |   |--- feature_0 <= 483.50\n",
      "|   |   |   |   |   |   |   |--- feature_1 <= 11929.00\n",
      "|   |   |   |   |   |   |   |   |--- class: yes\n",
      "|   |   |   |   |   |   |   |--- feature_1 >  11929.00\n",
      "|   |   |   |   |   |   |   |   |--- feature_2 <= 951.00\n",
      "|   |   |   |   |   |   |   |   |   |--- class: No\n",
      "|   |   |   |   |   |   |   |   |--- feature_2 >  951.00\n",
      "|   |   |   |   |   |   |   |   |   |--- feature_2 <= 974.50\n",
      "|   |   |   |   |   |   |   |   |   |   |--- class: yes\n",
      "|   |   |   |   |   |   |   |   |   |--- feature_2 >  974.50\n",
      "|   |   |   |   |   |   |   |   |   |   |--- class: No\n",
      "|   |   |   |   |   |   |--- feature_0 >  483.50\n",
      "|   |   |   |   |   |   |   |--- class: yes\n",
      "|   |   |   |   |   |--- feature_1 >  12030.00\n",
      "|   |   |   |   |   |   |--- feature_0 <= 383.50\n",
      "|   |   |   |   |   |   |   |--- feature_2 <= 961.00\n",
      "|   |   |   |   |   |   |   |   |--- feature_1 <= 12138.50\n",
      "|   |   |   |   |   |   |   |   |   |--- class: yes\n",
      "|   |   |   |   |   |   |   |   |--- feature_1 >  12138.50\n",
      "|   |   |   |   |   |   |   |   |   |--- feature_1 <= 12173.50\n",
      "|   |   |   |   |   |   |   |   |   |   |--- class: No\n",
      "|   |   |   |   |   |   |   |   |   |--- feature_1 >  12173.50\n",
      "|   |   |   |   |   |   |   |   |   |   |--- class: yes\n",
      "|   |   |   |   |   |   |   |--- feature_2 >  961.00\n",
      "|   |   |   |   |   |   |   |   |--- feature_1 <= 12134.50\n",
      "|   |   |   |   |   |   |   |   |   |--- class: No\n",
      "|   |   |   |   |   |   |   |   |--- feature_1 >  12134.50\n",
      "|   |   |   |   |   |   |   |   |   |--- class: yes\n",
      "|   |   |   |   |   |   |--- feature_0 >  383.50\n",
      "|   |   |   |   |   |   |   |--- feature_0 <= 397.50\n",
      "|   |   |   |   |   |   |   |   |--- class: No\n",
      "|   |   |   |   |   |   |   |--- feature_0 >  397.50\n",
      "|   |   |   |   |   |   |   |   |--- feature_1 <= 12242.00\n",
      "|   |   |   |   |   |   |   |   |   |--- class: yes\n",
      "|   |   |   |   |   |   |   |   |--- feature_1 >  12242.00\n",
      "|   |   |   |   |   |   |   |   |   |--- feature_1 <= 12269.50\n",
      "|   |   |   |   |   |   |   |   |   |   |--- class: No\n",
      "|   |   |   |   |   |   |   |   |   |--- feature_1 >  12269.50\n",
      "|   |   |   |   |   |   |   |   |   |   |--- class: yes\n",
      "|   |   |   |--- feature_1 >  12293.50\n",
      "|   |   |   |   |--- feature_1 <= 12492.00\n",
      "|   |   |   |   |   |--- class: No\n",
      "|   |   |   |   |--- feature_1 >  12492.00\n",
      "|   |   |   |   |   |--- class: yes\n",
      "|--- feature_1 >  12542.50\n",
      "|   |--- feature_1 <= 13235.50\n",
      "|   |   |--- feature_2 <= 346.00\n",
      "|   |   |   |--- feature_1 <= 12627.50\n",
      "|   |   |   |   |--- class: yes\n",
      "|   |   |   |--- feature_1 >  12627.50\n",
      "|   |   |   |   |--- feature_0 <= 346.00\n",
      "|   |   |   |   |   |--- feature_0 <= 147.00\n",
      "|   |   |   |   |   |   |--- class: No\n",
      "|   |   |   |   |   |--- feature_0 >  147.00\n",
      "|   |   |   |   |   |   |--- feature_1 <= 12678.00\n",
      "|   |   |   |   |   |   |   |--- class: No\n",
      "|   |   |   |   |   |   |--- feature_1 >  12678.00\n",
      "|   |   |   |   |   |   |   |--- feature_0 <= 283.50\n",
      "|   |   |   |   |   |   |   |   |--- class: yes\n",
      "|   |   |   |   |   |   |   |--- feature_0 >  283.50\n",
      "|   |   |   |   |   |   |   |   |--- feature_0 <= 309.00\n",
      "|   |   |   |   |   |   |   |   |   |--- class: No\n",
      "|   |   |   |   |   |   |   |   |--- feature_0 >  309.00\n",
      "|   |   |   |   |   |   |   |   |   |--- class: yes\n",
      "|   |   |   |   |--- feature_0 >  346.00\n",
      "|   |   |   |   |   |--- feature_0 <= 488.50\n",
      "|   |   |   |   |   |   |--- feature_2 <= 262.50\n",
      "|   |   |   |   |   |   |   |--- class: No\n",
      "|   |   |   |   |   |   |--- feature_2 >  262.50\n",
      "|   |   |   |   |   |   |   |--- feature_0 <= 443.50\n",
      "|   |   |   |   |   |   |   |   |--- class: No\n",
      "|   |   |   |   |   |   |   |--- feature_0 >  443.50\n",
      "|   |   |   |   |   |   |   |   |--- class: yes\n",
      "|   |   |   |   |   |--- feature_0 >  488.50\n",
      "|   |   |   |   |   |   |--- class: yes\n",
      "|   |   |--- feature_2 >  346.00\n",
      "|   |   |   |--- feature_2 <= 520.00\n",
      "|   |   |   |   |--- feature_2 <= 490.00\n",
      "|   |   |   |   |   |--- feature_1 <= 12978.50\n",
      "|   |   |   |   |   |   |--- class: No\n",
      "|   |   |   |   |   |--- feature_1 >  12978.50\n",
      "|   |   |   |   |   |   |--- feature_1 <= 13002.50\n",
      "|   |   |   |   |   |   |   |--- class: yes\n",
      "|   |   |   |   |   |   |--- feature_1 >  13002.50\n",
      "|   |   |   |   |   |   |   |--- feature_1 <= 13118.00\n",
      "|   |   |   |   |   |   |   |   |--- feature_2 <= 390.00\n",
      "|   |   |   |   |   |   |   |   |   |--- class: No\n",
      "|   |   |   |   |   |   |   |   |--- feature_2 >  390.00\n",
      "|   |   |   |   |   |   |   |   |   |--- class: yes\n",
      "|   |   |   |   |   |   |   |--- feature_1 >  13118.00\n",
      "|   |   |   |   |   |   |   |   |--- class: No\n",
      "|   |   |   |   |--- feature_2 >  490.00\n",
      "|   |   |   |   |   |--- feature_1 <= 12710.00\n",
      "|   |   |   |   |   |   |--- class: No\n",
      "|   |   |   |   |   |--- feature_1 >  12710.00\n",
      "|   |   |   |   |   |   |--- class: yes\n",
      "|   |   |   |--- feature_2 >  520.00\n",
      "|   |   |   |   |--- feature_0 <= 184.50\n",
      "|   |   |   |   |   |--- feature_0 <= 182.50\n",
      "|   |   |   |   |   |   |--- class: No\n",
      "|   |   |   |   |   |--- feature_0 >  182.50\n",
      "|   |   |   |   |   |   |--- class: yes\n",
      "|   |   |   |   |--- feature_0 >  184.50\n",
      "|   |   |   |   |   |--- class: No\n",
      "|   |--- feature_1 >  13235.50\n",
      "|   |   |--- feature_0 <= 100.50\n",
      "|   |   |   |--- feature_2 <= 379.50\n",
      "|   |   |   |   |--- class: yes\n",
      "|   |   |   |--- feature_2 >  379.50\n",
      "|   |   |   |   |--- class: No\n",
      "|   |   |--- feature_0 >  100.50\n",
      "|   |   |   |--- feature_0 <= 129.50\n",
      "|   |   |   |   |--- feature_0 <= 127.50\n",
      "|   |   |   |   |   |--- class: No\n",
      "|   |   |   |   |--- feature_0 >  127.50\n",
      "|   |   |   |   |   |--- class: yes\n",
      "|   |   |   |--- feature_0 >  129.50\n",
      "|   |   |   |   |--- class: No\n",
      "\n"
     ]
    }
   ],
   "source": [
    "from sklearn import tree\n",
    "text_representation = tree.export_text(model)\n",
    "print(text_representation)"
   ]
  },
  {
   "cell_type": "code",
   "execution_count": 84,
   "id": "8ff2fc8b-a171-46b9-82d3-021184c66c6a",
   "metadata": {},
   "outputs": [],
   "source": [
    "# Cheching prediction of model\n",
    "\n",
    "Y_pred = model.predict(X_test)"
   ]
  },
  {
   "cell_type": "code",
   "execution_count": 85,
   "id": "256a0a89-a910-4740-8a82-6acba6f64b80",
   "metadata": {},
   "outputs": [],
   "source": [
    "# Check accuracy of model\n",
    "from sklearn.metrics import accuracy_score"
   ]
  },
  {
   "cell_type": "code",
   "execution_count": 86,
   "id": "17460a72-570e-4e41-93ab-ff4d4d7480da",
   "metadata": {},
   "outputs": [
    {
     "name": "stdout",
     "output_type": "stream",
     "text": [
      "Accuracy is  84.66666666666667\n"
     ]
    }
   ],
   "source": [
    "print(\"Accuracy is \", accuracy_score(Y_test, Y_pred)*100)"
   ]
  },
  {
   "cell_type": "code",
   "execution_count": 87,
   "id": "12ac05d9-5f25-4ec6-93dd-30e27fd5e86b",
   "metadata": {},
   "outputs": [],
   "source": [
    "#  Checking the performance of model on training data\n",
    "\n",
    "Y_train_pred = model.predict(X_train)"
   ]
  },
  {
   "cell_type": "code",
   "execution_count": 88,
   "id": "321eea73-7bd8-4116-93ec-a5236aaa467f",
   "metadata": {},
   "outputs": [
    {
     "name": "stdout",
     "output_type": "stream",
     "text": [
      "Accuracy is  100.0\n"
     ]
    }
   ],
   "source": [
    "print(\"Accuracy is \", accuracy_score(Y_train, Y_train_pred)*100)"
   ]
  },
  {
   "cell_type": "markdown",
   "id": "6c50c4d7-3343-43a6-aa13-4ea72007f1d9",
   "metadata": {},
   "source": [
    "# Overfitting of model: When the model try to ocuupie all the variability in the dataset. Creating a single equation for every possible h case.  "
   ]
  },
  {
   "cell_type": "markdown",
   "id": "b3730a49-4b03-4c5a-9e42-7777181d2f11",
   "metadata": {},
   "source": [
    "# Pruning: It is a technique that removes or cut the some subtree or brach of the tree. "
   ]
  },
  {
   "cell_type": "code",
   "execution_count": 89,
   "id": "2d725c2c-5936-4051-abad-4006909f7aa1",
   "metadata": {},
   "outputs": [],
   "source": [
    "# Saving the model\n",
    "\n",
    "import joblib"
   ]
  },
  {
   "cell_type": "code",
   "execution_count": 90,
   "id": "befba0f4-523f-4712-b1dd-ad085227c22d",
   "metadata": {},
   "outputs": [
    {
     "data": {
      "text/plain": [
       "['C:\\\\Users\\\\Lenovo\\\\OneDrive\\\\Desktop\\\\Juypter_projects\\\\loan_model_DecisionTree.pkl']"
      ]
     },
     "execution_count": 90,
     "metadata": {},
     "output_type": "execute_result"
    }
   ],
   "source": [
    "joblib.dump(model, r\"C:\\Users\\Lenovo\\OneDrive\\Desktop\\Juypter_projects\\loan_model_DecisionTree.pkl\" )"
   ]
  }
 ],
 "metadata": {
  "kernelspec": {
   "display_name": "Python 3 (ipykernel)",
   "language": "python",
   "name": "python3"
  },
  "language_info": {
   "codemirror_mode": {
    "name": "ipython",
    "version": 3
   },
   "file_extension": ".py",
   "mimetype": "text/x-python",
   "name": "python",
   "nbconvert_exporter": "python",
   "pygments_lexer": "ipython3",
   "version": "3.11.2"
  }
 },
 "nbformat": 4,
 "nbformat_minor": 5
}
